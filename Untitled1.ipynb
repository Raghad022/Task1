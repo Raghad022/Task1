{
  "nbformat": 4,
  "nbformat_minor": 0,
  "metadata": {
    "colab": {
      "provenance": [],
      "collapsed_sections": [
        "V6Htbyj5B43K",
        "wwqWcq-DCA6S"
      ],
      "authorship_tag": "ABX9TyPPPPTmrkFfVbVgVBcdOJLQ",
      "include_colab_link": true
    },
    "kernelspec": {
      "name": "python3",
      "display_name": "Python 3"
    },
    "language_info": {
      "name": "python"
    }
  },
  "cells": [
    {
      "cell_type": "markdown",
      "metadata": {
        "id": "view-in-github",
        "colab_type": "text"
      },
      "source": [
        "<a href=\"https://colab.research.google.com/github/Raghad022/Task1/blob/main/Untitled1.ipynb\" target=\"_parent\"><img src=\"https://colab.research.google.com/assets/colab-badge.svg\" alt=\"Open In Colab\"/></a>"
      ]
    },
    {
      "cell_type": "markdown",
      "source": [
        "# Importing libraries"
      ],
      "metadata": {
        "id": "V6Htbyj5B43K"
      }
    },
    {
      "cell_type": "code",
      "execution_count": null,
      "metadata": {
        "id": "zjUT-LGUBag9"
      },
      "outputs": [],
      "source": [
        "import pandas as pd\n",
        "import numpy as np\n",
        "import seaborn as sns\n",
        "import matplotlib.pyplot as plt"
      ]
    },
    {
      "cell_type": "markdown",
      "source": [
        "# Read file"
      ],
      "metadata": {
        "id": "wwqWcq-DCA6S"
      }
    },
    {
      "cell_type": "code",
      "source": [
        "insurance_data= pd.read_csv(\"insurance.csv\")\n",
        "#Read the first ten samples\n",
        "insurance_data.head(10)"
      ],
      "metadata": {
        "id": "XOC2J8HpB-HN"
      },
      "execution_count": null,
      "outputs": []
    },
    {
      "cell_type": "code",
      "source": [
        "#Read the last five samples\n",
        "insurance_data.tail()"
      ],
      "metadata": {
        "id": "oPVpQSvmB_il"
      },
      "execution_count": null,
      "outputs": []
    },
    {
      "cell_type": "code",
      "source": [
        "#Show number of rows and columns\n",
        "insurance_data.shape"
      ],
      "metadata": {
        "id": "1SfquZX3ChBW"
      },
      "execution_count": null,
      "outputs": []
    },
    {
      "cell_type": "markdown",
      "source": [
        "# Data preprocessing"
      ],
      "metadata": {
        "id": "FUCGjzKADheB"
      }
    },
    {
      "cell_type": "code",
      "source": [
        "#information about data\n",
        "insurance_data.info()"
      ],
      "metadata": {
        "id": "AXhFhlS5DV6H"
      },
      "execution_count": null,
      "outputs": []
    },
    {
      "cell_type": "code",
      "source": [
        "#check for missing value\n",
        "insurance_data.isnull().sum()"
      ],
      "metadata": {
        "id": "Lm-Wax3rDtqx"
      },
      "execution_count": null,
      "outputs": []
    },
    {
      "cell_type": "code",
      "source": [
        "#numbers of duplicates\n",
        "insurance_data.duplicated().sum()"
      ],
      "metadata": {
        "id": "hprqZznLEC9l"
      },
      "execution_count": null,
      "outputs": []
    },
    {
      "cell_type": "code",
      "source": [
        "#remove duplicates\n",
        "insurance_data.drop_duplicates(inplace=True)\n",
        "insurance_data.duplicated().sum()"
      ],
      "metadata": {
        "id": "nKYex3CAEI90"
      },
      "execution_count": null,
      "outputs": []
    },
    {
      "cell_type": "code",
      "source": [
        "#Sum of each category in a given column\n",
        "insurance_data[\"sex\"].value_counts()"
      ],
      "metadata": {
        "id": "gDaFlPwLETtE"
      },
      "execution_count": null,
      "outputs": []
    },
    {
      "cell_type": "code",
      "source": [
        "#show categries in sex column\n",
        "insurance_data[\"sex\"].unique()"
      ],
      "metadata": {
        "id": "tnabxA3yEUzQ"
      },
      "execution_count": null,
      "outputs": []
    },
    {
      "cell_type": "code",
      "source": [
        "#reblace categry data to int data\n",
        "insurance_data.replace({\"sex\":{'male':0,'female':1}},inplace=True)\n",
        "insurance_data.head()"
      ],
      "metadata": {
        "id": "QQ3MlQrEE-RO"
      },
      "execution_count": null,
      "outputs": []
    },
    {
      "cell_type": "code",
      "source": [
        "#check\n",
        "insurance_data.info()"
      ],
      "metadata": {
        "id": "mrHDkUPdE_sK"
      },
      "execution_count": null,
      "outputs": []
    },
    {
      "cell_type": "code",
      "source": [
        "#show categries in smoker column\n",
        "insurance_data[\"smoker\"].unique()"
      ],
      "metadata": {
        "id": "OjCrqG4jFFkT"
      },
      "execution_count": null,
      "outputs": []
    },
    {
      "cell_type": "code",
      "source": [
        "#reblace categry data to int data\n",
        "insurance_data.replace({\"smoker\":{\"yes\":1,\"no\":0}},inplace=True)\n",
        "insurance_data.head(2)"
      ],
      "metadata": {
        "id": "rHKEP12jFL9L"
      },
      "execution_count": null,
      "outputs": []
    },
    {
      "cell_type": "code",
      "source": [
        "#check\n",
        "insurance_data.info()"
      ],
      "metadata": {
        "id": "l4Bt5GBRFSEE"
      },
      "execution_count": null,
      "outputs": []
    },
    {
      "cell_type": "code",
      "source": [
        "#show categries in region column\n",
        "insurance_data[\"region\"].unique()"
      ],
      "metadata": {
        "id": "QNZo_ihUFWPo"
      },
      "execution_count": null,
      "outputs": []
    },
    {
      "cell_type": "code",
      "source": [
        "#reblace categry data to int data\n",
        "#another method\n",
        "from sklearn.preprocessing import LabelEncoder\n",
        "le = LabelEncoder()\n",
        "insurance_data['region']=le.fit_transform(insurance_data['region'])"
      ],
      "metadata": {
        "id": "BkHrPV68FZWD"
      },
      "execution_count": null,
      "outputs": []
    },
    {
      "cell_type": "code",
      "source": [
        "#check\n",
        "insurance_data.info()"
      ],
      "metadata": {
        "id": "0ClArWtGFrwn"
      },
      "execution_count": null,
      "outputs": []
    },
    {
      "cell_type": "code",
      "source": [
        "insurance_data.corr()"
      ],
      "metadata": {
        "id": "ojoq8X-4FyS9"
      },
      "execution_count": null,
      "outputs": []
    },
    {
      "cell_type": "code",
      "source": [
        "sns.heatmap(insurance_data.corr(), annot=True, cmap='Reds')"
      ],
      "metadata": {
        "id": "d-wXrnA8HUTv"
      },
      "execution_count": null,
      "outputs": []
    },
    {
      "cell_type": "code",
      "source": [
        "insurance_data.drop(\"region\",inplace=True,axis=1)\n",
        "insurance_data.head()"
      ],
      "metadata": {
        "id": "eXcxmDjnHZVv"
      },
      "execution_count": null,
      "outputs": []
    },
    {
      "cell_type": "markdown",
      "source": [
        "# Data analysis"
      ],
      "metadata": {
        "id": "lLviHdmPHeFS"
      }
    },
    {
      "cell_type": "code",
      "source": [
        "insurance_data.describe()"
      ],
      "metadata": {
        "id": "c6vHfJuhH7w1"
      },
      "execution_count": null,
      "outputs": []
    },
    {
      "cell_type": "markdown",
      "source": [
        "# Univariate analysis"
      ],
      "metadata": {
        "id": "XhvzDt_vHuU8"
      }
    },
    {
      "cell_type": "code",
      "source": [
        "#one numerical feature\n",
        "plt.hist(x=insurance_data[\"age\"],bins=5,color=\"Orange\",edgecolor=\"Black\")\n",
        "plt.xlabel('age')\n",
        "plt.ylabel('number of samples')\n",
        "plt.title('The number of samples')\n",
        "plt.show()"
      ],
      "metadata": {
        "id": "OOxW7MrYHdpQ"
      },
      "execution_count": null,
      "outputs": []
    },
    {
      "cell_type": "code",
      "source": [
        "#one numerical feature\n",
        "sns.histplot(insurance_data['bmi'],kde=True)"
      ],
      "metadata": {
        "id": "OhPRHngUIZ1u"
      },
      "execution_count": null,
      "outputs": []
    },
    {
      "cell_type": "code",
      "source": [
        "#one numerical feature\n",
        "sns.boxplot(x=insurance_data[\"charges\"])"
      ],
      "metadata": {
        "id": "VsorEDWNIkkr"
      },
      "execution_count": null,
      "outputs": []
    },
    {
      "cell_type": "code",
      "source": [
        "#one categorical feature\n",
        "sns.countplot(x='smoker',data=insurance_data)"
      ],
      "metadata": {
        "id": "e13-JVD4Irb2"
      },
      "execution_count": null,
      "outputs": []
    },
    {
      "cell_type": "code",
      "source": [
        "#one categorical feature\n",
        "sex_counts = insurance_data['sex'].value_counts()\n",
        "plt.pie(sex_counts, labels=sex_counts, autopct='%1.1f%%')"
      ],
      "metadata": {
        "id": "EzdXIutUI-eB"
      },
      "execution_count": null,
      "outputs": []
    },
    {
      "cell_type": "markdown",
      "source": [
        "# Bivariate analysis"
      ],
      "metadata": {
        "id": "nwwi-iljJNrq"
      }
    },
    {
      "cell_type": "code",
      "source": [
        "#two numerical features\n",
        "sns.scatterplot(data=insurance_data,x='age',y='charges')"
      ],
      "metadata": {
        "id": "v_PmKmm5JHqf"
      },
      "execution_count": null,
      "outputs": []
    },
    {
      "cell_type": "code",
      "source": [
        "#two categorical features\n",
        "sns.countplot(x='sex',hue='smoker',data=insurance_data)"
      ],
      "metadata": {
        "id": "XWn_PIqHJcsC"
      },
      "execution_count": null,
      "outputs": []
    },
    {
      "cell_type": "code",
      "source": [
        "#categorical & numerical features\n",
        "sns.boxplot(data=insurance_data,x=\"smoker\",y=\"charges\")"
      ],
      "metadata": {
        "id": "_O_pQ7edJsfR"
      },
      "execution_count": null,
      "outputs": []
    },
    {
      "cell_type": "code",
      "source": [
        "sns.pairplot(insurance_data)"
      ],
      "metadata": {
        "id": "VEnjLfYFJ9KX"
      },
      "execution_count": null,
      "outputs": []
    },
    {
      "cell_type": "markdown",
      "source": [
        "# Split the dataset"
      ],
      "metadata": {
        "id": "TDRMSFoxKCw4"
      }
    },
    {
      "cell_type": "code",
      "source": [
        "#Separating the specifications from the goal\n",
        "X=insurance_data.drop(columns=['charges'],axis=1)\n",
        "y=insurance_data['charges']"
      ],
      "metadata": {
        "id": "WuZRM_5WKOwD"
      },
      "execution_count": null,
      "outputs": []
    },
    {
      "cell_type": "code",
      "source": [
        "#Train Test Split\n",
        "from sklearn.model_selection import train_test_split\n",
        "X_train,X_test,y_train,y_test=train_test_split(X,y,test_size=0.2,random_state=42)"
      ],
      "metadata": {
        "id": "GY46wsJ0KhSO"
      },
      "execution_count": null,
      "outputs": []
    },
    {
      "cell_type": "code",
      "source": [
        "print(X.shape,X_train.shape,X_test.shape)"
      ],
      "metadata": {
        "id": "jd_nTE8AKwlj"
      },
      "execution_count": null,
      "outputs": []
    },
    {
      "cell_type": "markdown",
      "source": [
        "# Feature Scaling Or Standardization"
      ],
      "metadata": {
        "id": "PsiXwPRMK6El"
      }
    },
    {
      "cell_type": "code",
      "source": [
        "from sklearn.preprocessing import StandardScaler\n",
        "scaler = StandardScaler()\n",
        "X_train=scaler.fit_transform(X_train)\n",
        "X_test=scaler.transform(X_test)"
      ],
      "metadata": {
        "id": "IUT5aiDxK1fV"
      },
      "execution_count": null,
      "outputs": []
    },
    {
      "cell_type": "markdown",
      "source": [
        "#  Building LinearRegression model"
      ],
      "metadata": {
        "id": "f-8Z0aeQLIRz"
      }
    },
    {
      "cell_type": "code",
      "source": [
        "from sklearn.linear_model import LinearRegression\n",
        "linear_m=LinearRegression()\n",
        "linear_m.fit(X_train,y_train)"
      ],
      "metadata": {
        "id": "mLOj0ZfYLDaX"
      },
      "execution_count": null,
      "outputs": []
    },
    {
      "cell_type": "code",
      "source": [
        "print('coefficient:',linear_m.coef_)\n",
        "print('intercept:',linear_m.intercept_)"
      ],
      "metadata": {
        "id": "Zk0sGEFiLP55"
      },
      "execution_count": null,
      "outputs": []
    },
    {
      "cell_type": "markdown",
      "source": [
        "# Evaluation LR model"
      ],
      "metadata": {
        "id": "7k-OB7zQMNTq"
      }
    },
    {
      "cell_type": "code",
      "source": [
        "#Evaluation train sample\n",
        "from sklearn.metrics import r2_score,mean_absolute_error\n",
        "score=r2_score(y_train,linear_m.predict(X_train))\n",
        "mae=mean_absolute_error(y_train,linear_m.predict(X_train))\n",
        "print(\"r2:\",score)\n",
        "print(\"mea:\",mae)"
      ],
      "metadata": {
        "id": "WLGAW5ieLsi-"
      },
      "execution_count": null,
      "outputs": []
    },
    {
      "cell_type": "code",
      "source": [
        "#Evaluation test sample\n",
        "score=r2_score(y_test,linear_m.predict(X_test))\n",
        "mae=mean_absolute_error(y_test,linear_m.predict(X_test))\n",
        "print(\"r2:\",score)\n",
        "print(\"mea:\",mae)"
      ],
      "metadata": {
        "id": "oGF-_Lu1MdY7"
      },
      "execution_count": null,
      "outputs": []
    },
    {
      "cell_type": "code",
      "source": [
        "linear_m.predict(scaler.transform([[19,1,27.90,0,1]]))"
      ],
      "metadata": {
        "id": "LfzBt1j2Mk_F"
      },
      "execution_count": null,
      "outputs": []
    },
    {
      "cell_type": "code",
      "source": [
        "input_data = (28,0,33.000,3,0)\n",
        "\n",
        "# changing the input_data to numpy array\n",
        "input_data_as_np_array = np.asarray(input_data).reshape(1,-1)\n",
        "\n",
        "\n",
        "scaled_data = scaler.transform(input_data_as_np_array)\n",
        "predition = linear_m.predict(scaled_data)\n",
        "print(predition)"
      ],
      "metadata": {
        "id": "1byz-IMoMxsp"
      },
      "execution_count": null,
      "outputs": []
    },
    {
      "cell_type": "markdown",
      "source": [
        "# Building support vector regrission model"
      ],
      "metadata": {
        "id": "9tsz64vuM-WP"
      }
    },
    {
      "cell_type": "code",
      "source": [
        "#kernel=linear\n",
        "from sklearn.metrics import r2_score\n",
        "from sklearn.svm import SVR\n",
        "svr=SVR(kernel='linear')\n",
        "svr.fit(X_train,y_train)\n",
        "\n",
        "#Evaluation\n",
        "y_pred=svr.predict(X_test)\n",
        "\n",
        "score=r2_score(y_test,y_pred)\n",
        "print(\"R2 Score\", score)"
      ],
      "metadata": {
        "id": "SycN7WKbM05c"
      },
      "execution_count": null,
      "outputs": []
    },
    {
      "cell_type": "code",
      "source": [
        "#kernel=rbf\n",
        "from sklearn.metrics import r2_score\n",
        "from sklearn.svm import SVR\n",
        "svr=SVR(kernel='rbf')\n",
        "svr.fit(X_train,y_train)\n",
        "\n",
        "#Evaluation\n",
        "y_pred=svr.predict(X_test)\n",
        "score=r2_score(y_test,y_pred)\n",
        "print(\"R2 Score\", score)"
      ],
      "metadata": {
        "id": "_Hu-uoEVO0nA"
      },
      "execution_count": null,
      "outputs": []
    },
    {
      "cell_type": "code",
      "source": [
        "#kernel=poly\n",
        "from sklearn.metrics import r2_score\n",
        "from sklearn.svm import SVR\n",
        "svr=SVR(kernel='poly')\n",
        "svr.fit(X_train,y_train)\n",
        "\n",
        "#Evaluation\n",
        "y_pred=svr.predict(X_test)\n",
        "score=r2_score(y_test,y_pred)\n",
        "print(\"R2 Score\", score)"
      ],
      "metadata": {
        "id": "lRs8_YvMPB8H"
      },
      "execution_count": null,
      "outputs": []
    },
    {
      "cell_type": "code",
      "source": [
        "#kernel=sigmoid\n",
        "from sklearn.metrics import r2_score\n",
        "from sklearn.svm import SVR\n",
        "svr=SVR(kernel='sigmoid')\n",
        "svr.fit(X_train,y_train)\n",
        "\n",
        "#Evaluation\n",
        "y_pred=svr.predict(X_test)\n",
        "score=r2_score(y_test,y_pred)\n",
        "print(\"R2 Score\", score)"
      ],
      "metadata": {
        "id": "632kO83JPQx8"
      },
      "execution_count": null,
      "outputs": []
    },
    {
      "cell_type": "markdown",
      "source": [
        "# Building KNeighborsRegressor Model"
      ],
      "metadata": {
        "id": "9y_nKygnN4nq"
      }
    },
    {
      "cell_type": "code",
      "source": [
        "#number of neighbors equal 15\n",
        "from sklearn.neighbors import KNeighborsRegressor\n",
        "regressor=KNeighborsRegressor(n_neighbors=15)\n",
        "regressor.fit(X_train,y_train)\n",
        "\n",
        "#Evaluation\n",
        "y_pred=regressor.predict(X_test)\n",
        "score=r2_score(y_test,y_pred)\n",
        "print(\"R2 Score\", score)"
      ],
      "metadata": {
        "id": "_q149kCeNkfI"
      },
      "execution_count": null,
      "outputs": []
    },
    {
      "cell_type": "code",
      "source": [
        "#number of neighbors equal 7\n",
        "from sklearn.neighbors import KNeighborsRegressor\n",
        "regressor=KNeighborsRegressor(n_neighbors=7)\n",
        "regressor.fit(X_train,y_train)\n",
        "\n",
        "#Evaluation\n",
        "y_pred=regressor.predict(X_test)\n",
        "score=r2_score(y_test,y_pred)\n",
        "print(\"R2 Score\", score)\n"
      ],
      "metadata": {
        "id": "hLXJ2A_ROYoq"
      },
      "execution_count": null,
      "outputs": []
    }
  ]
}